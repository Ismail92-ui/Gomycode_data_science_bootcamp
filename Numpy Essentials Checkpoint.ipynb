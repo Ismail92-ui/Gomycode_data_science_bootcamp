{
 "cells": [
  {
   "cell_type": "code",
   "execution_count": 2,
   "id": "4d47d507-d55b-4fca-af58-43bdf3995555",
   "metadata": {},
   "outputs": [],
   "source": [
    "import numpy as np\n",
    "\n",
    "# Step 1: Create the grades array\n",
    "grades = np.array([85, 90, 88, 92, 95, 80, 75, 98, 89, 83])\n",
    "\n",
    "# Step 2: Calculate statistical measures\n",
    "mean_grade = np.mean(grades)\n",
    "median_grade = np.median(grades)\n",
    "std_deviation = np.std(grades)\n",
    "\n",
    "# Step 3: Find max and min grades\n",
    "max_grade = np.max(grades)\n",
    "min_grade = np.min(grades)\n",
    "\n",
    "# Step 4: Sort the grades in ascending order\n",
    "sorted_grades = np.sort(grades)\n",
    "\n",
    "# Step 5: Find index of the highest grade\n",
    "index_max_grade = np.argmax(grades)\n",
    "\n",
    "# Step 6: Count number of students who scored above 90\n",
    "count_above_90 = np.sum(grades > 90)\n",
    "\n",
    "# Step 7: Calculate percentage of students who scored above 90\n",
    "percent_above_90 = np.mean(grades > 90) * 100\n",
    "\n",
    "# Step 8: Calculate percentage of students who scored below 75\n",
    "percent_below_75 = np.mean(grades < 75) * 100\n",
    "\n",
    "# Step 9: Extract grades above 90 into a new array\n",
    "high_performers = grades[grades > 90]\n",
    "\n",
    "# Step 10: Create array of passing grades (above 75)\n",
    "passing_grades = grades[grades > 75]"
   ]
  },
  {
   "cell_type": "code",
   "execution_count": 3,
   "id": "53aacad7-d982-4d09-9177-017cb15813d4",
   "metadata": {},
   "outputs": [
    {
     "name": "stdout",
     "output_type": "stream",
     "text": [
      "Grades: [85 90 88 92 95 80 75 98 89 83]\n",
      "Mean Grade: 87.5\n",
      "Median Grade: 88.5\n",
      "Standard Deviation: 6.591661399070799\n",
      "Maximum Grade: 98\n",
      "Minimum Grade: 75\n",
      "Sorted Grades: [75 80 83 85 88 89 90 92 95 98]\n",
      "Index of Highest Grade: 7\n",
      "Number of Students Scoring Above 90: 3\n",
      "Percentage of Students Scoring Above 90: 30.0 %\n",
      "Percentage of Students Scoring Below 75: 0.0 %\n",
      "High Performers (Grades > 90): [92 95 98]\n",
      "Passing Grades (Grades > 75): [85 90 88 92 95 80 98 89 83]\n"
     ]
    }
   ],
   "source": [
    "print(\"Grades:\", grades)\n",
    "print(\"Mean Grade:\", mean_grade)\n",
    "print(\"Median Grade:\", median_grade)\n",
    "print(\"Standard Deviation:\", std_deviation)\n",
    "print(\"Maximum Grade:\", max_grade)\n",
    "print(\"Minimum Grade:\", min_grade)\n",
    "print(\"Sorted Grades:\", sorted_grades)\n",
    "print(\"Index of Highest Grade:\", index_max_grade)\n",
    "print(\"Number of Students Scoring Above 90:\", count_above_90)\n",
    "print(\"Percentage of Students Scoring Above 90:\", percent_above_90, \"%\")\n",
    "print(\"Percentage of Students Scoring Below 75:\", percent_below_75, \"%\")\n",
    "print(\"High Performers (Grades > 90):\", high_performers)\n",
    "print(\"Passing Grades (Grades > 75):\", passing_grades)"
   ]
  },
  {
   "cell_type": "code",
   "execution_count": null,
   "id": "6b170c59-4c5b-44fe-9f87-81be6382b719",
   "metadata": {},
   "outputs": [],
   "source": []
  }
 ],
 "metadata": {
  "kernelspec": {
   "display_name": "Python [conda env:base] *",
   "language": "python",
   "name": "conda-base-py"
  },
  "language_info": {
   "codemirror_mode": {
    "name": "ipython",
    "version": 3
   },
   "file_extension": ".py",
   "mimetype": "text/x-python",
   "name": "python",
   "nbconvert_exporter": "python",
   "pygments_lexer": "ipython3",
   "version": "3.12.7"
  }
 },
 "nbformat": 4,
 "nbformat_minor": 5
}
