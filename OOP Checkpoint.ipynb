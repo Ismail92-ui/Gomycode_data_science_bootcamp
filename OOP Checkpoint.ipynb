{
 "cells": [
  {
   "cell_type": "code",
   "execution_count": 25,
   "id": "a66a444f-7cb9-489d-93f8-24297c50be23",
   "metadata": {},
   "outputs": [],
   "source": [
    "class Account:\n",
    "    def __init__(self, account_number: str, account_holder: str, account_balance: float = 0.0):\n",
    "        self.account_number = account_number\n",
    "        self.account_holder = account_holder\n",
    "        self.account_balance = account_balance\n",
    "\n",
    "    def deposit(self, amount: float):\n",
    "        if amount > 0:\n",
    "            self.account_balance += amount\n",
    "            print(f\"Deposited ${amount:.2f}. New balance: ${self.account_balance:.2f}\")\n",
    "        else:\n",
    "            print(\"Deposit amount must be positive.\")\n",
    "\n",
    "    def withdraw(self, amount: float):\n",
    "        if amount <= 0:\n",
    "            print(\"Withdrawal amount must be positive.\")\n",
    "        elif self.account_balance >= amount:\n",
    "            self.account_balance -= amount\n",
    "            print(f\"Withdrew ${amount:.2f}. New balance: ${self.account_balance:.2f}\")\n",
    "        else:\n",
    "            print(\"Insufficient balance.\")\n",
    "\n",
    "    def check_balance(self):\n",
    "        print(f\"Current balance: ${self.account_balance:.2f}\")\n",
    "        return self.account_balance"
   ]
  },
  {
   "cell_type": "code",
   "execution_count": 26,
   "id": "380127c7-b505-4b9d-b9cb-a2b9c2564823",
   "metadata": {},
   "outputs": [],
   "source": [
    "my_account = Account(\"123456789\", \"Alice Johnson\", 100.0)"
   ]
  },
  {
   "cell_type": "code",
   "execution_count": 27,
   "id": "f8c75cf9-30b7-48a3-9f08-830ef1b11e80",
   "metadata": {},
   "outputs": [
    {
     "name": "stdout",
     "output_type": "stream",
     "text": [
      "Deposited $50.00. New balance: $150.00\n",
      "Withdrew $30.00. New balance: $120.00\n",
      "Current balance: $120.00\n"
     ]
    },
    {
     "data": {
      "text/plain": [
       "120.0"
      ]
     },
     "execution_count": 27,
     "metadata": {},
     "output_type": "execute_result"
    }
   ],
   "source": [
    "my_account.deposit(50)\n",
    "my_account.withdraw(30)\n",
    "my_account.check_balance()"
   ]
  },
  {
   "cell_type": "code",
   "execution_count": 28,
   "id": "72af0099-ff0a-458e-9dc9-6d7364ba3ca5",
   "metadata": {},
   "outputs": [],
   "source": [
    "another_account = Account(\"987654321\", \"Bob Smith\")\n"
   ]
  },
  {
   "cell_type": "code",
   "execution_count": 29,
   "id": "3ef37c2d-7c36-4f8c-8ace-9cf9e7e397e6",
   "metadata": {},
   "outputs": [
    {
     "name": "stdout",
     "output_type": "stream",
     "text": [
      "Deposited $200.00. New balance: $200.00\n",
      "Insufficient balance.\n",
      "Current balance: $200.00\n"
     ]
    },
    {
     "data": {
      "text/plain": [
       "200.0"
      ]
     },
     "execution_count": 29,
     "metadata": {},
     "output_type": "execute_result"
    }
   ],
   "source": [
    "another_account.deposit(200)\n",
    "another_account.withdraw(250)  \n",
    "another_account.check_balance()"
   ]
  },
  {
   "cell_type": "code",
   "execution_count": 30,
   "id": "bd218a3f-a5dc-4275-84b0-c78e96cf2070",
   "metadata": {},
   "outputs": [
    {
     "data": {
      "text/plain": [
       "'C:\\\\Users\\\\user\\\\OneDrive\\\\Desktop\\\\Gomycode'"
      ]
     },
     "execution_count": 30,
     "metadata": {},
     "output_type": "execute_result"
    }
   ],
   "source": [
    "import os\n",
    "os.getcwd()"
   ]
  },
  {
   "cell_type": "code",
   "execution_count": null,
   "id": "de7c5fcc-1a4c-40cc-a4a2-1ace937a97fc",
   "metadata": {},
   "outputs": [],
   "source": []
  }
 ],
 "metadata": {
  "kernelspec": {
   "display_name": "Python [conda env:base] *",
   "language": "python",
   "name": "conda-base-py"
  },
  "language_info": {
   "codemirror_mode": {
    "name": "ipython",
    "version": 3
   },
   "file_extension": ".py",
   "mimetype": "text/x-python",
   "name": "python",
   "nbconvert_exporter": "python",
   "pygments_lexer": "ipython3",
   "version": "3.12.7"
  }
 },
 "nbformat": 4,
 "nbformat_minor": 5
}
