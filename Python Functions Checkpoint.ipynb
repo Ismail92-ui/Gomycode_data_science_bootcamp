{
 "cells": [
  {
   "cell_type": "code",
   "execution_count": 1,
   "id": "10db5cbb-4147-4106-9ef5-6e05cb523394",
   "metadata": {},
   "outputs": [
    {
     "name": "stdin",
     "output_type": "stream",
     "text": [
      "Enter the first number:  10\n",
      "Eter the second number:  5\n",
      "Enter the operator (+, -, *, /):  +\n"
     ]
    },
    {
     "name": "stdout",
     "output_type": "stream",
     "text": [
      "Thw result is: 15.0\n"
     ]
    }
   ],
   "source": [
    "def calculator(num1, num2):\n",
    "    operator = input(\"Enter the operator (+, -, *, /): \")\n",
    "\n",
    "    if operator == '+':\n",
    "        return num1 + num2\n",
    "    elif operator == '-':\n",
    "        return num1 - num2\n",
    "    elif operator =='*':\n",
    "        return num1 * num2\n",
    "    elif operator == '/': \n",
    "        if num2 != 0:\n",
    "            return num1 / num2\n",
    "        else:\n",
    "            return \"Error: Division by zero.\"\n",
    "    else: \n",
    "        return \"Error: Invalid operator.\"\n",
    "\n",
    "try:\n",
    "    num1 = float(input(\"Enter the first number: \"))\n",
    "    num2 = float(input(\"Eter the second number: \"))\n",
    "    result = calculator(num1, num2)\n",
    "    print(\"Thw result is:\",result)\n",
    "except ValueError:\n",
    "    print(\"Error: please enter the valid numbers.\")"
   ]
  },
  {
   "cell_type": "code",
   "execution_count": null,
   "id": "c00492f3-f2b9-471c-97d9-3ad3359f10be",
   "metadata": {},
   "outputs": [],
   "source": []
  }
 ],
 "metadata": {
  "kernelspec": {
   "display_name": "Python [conda env:base] *",
   "language": "python",
   "name": "conda-base-py"
  },
  "language_info": {
   "codemirror_mode": {
    "name": "ipython",
    "version": 3
   },
   "file_extension": ".py",
   "mimetype": "text/x-python",
   "name": "python",
   "nbconvert_exporter": "python",
   "pygments_lexer": "ipython3",
   "version": "3.12.7"
  }
 },
 "nbformat": 4,
 "nbformat_minor": 5
}
